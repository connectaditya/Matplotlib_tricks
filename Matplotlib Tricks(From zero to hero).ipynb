{
 "cells": [
  {
   "cell_type": "markdown",
   "metadata": {
    "_uuid": "33feb96570e1645e149d0fe1259954843e008211"
   },
   "source": [
    "# Matplotlib"
   ]
  },
  {
   "cell_type": "markdown",
   "metadata": {
    "_uuid": "b0c7576aa0ddf221dc6e8995eeb4684a8deeb868"
   },
   "source": [
    "Matplotlib is a Python 2D plotting library which produces publication-quality figures in a variety of hardcopy formats and interactive environments across platforms."
   ]
  },
  {
   "cell_type": "markdown",
   "metadata": {
    "_uuid": "5bb075b0b2fcd539b26a52bae125f6aecbef5ba3"
   },
   "source": [
    "The basic steps or rules to creating plots with matplotlib are:\n",
    "1. Prepare data \n",
    "2. Create plot \n",
    "3. Plot \n",
    "4. Customize plot \n",
    "5. Save plot \n",
    "6. Show plot"
   ]
  },
  {
   "cell_type": "code",
   "execution_count": null,
   "metadata": {
    "_uuid": "86804a56410e25e0c6150e5ffb5beb0ed37df8f3"
   },
   "outputs": [],
   "source": [
    "import matplotlib.pyplot as plt\n",
    "x = [1,2,3,4]       #Step1\n",
    "y = [10,20,25,30]   #Step1\n",
    "fig = plt.figure()  #Step2\n",
    "ax = fig.add_subplot(111)  #Step3\n",
    "ax.plot(x, y, color='lightblue', linewidth=3)    #Step4\n",
    "ax.scatter([2,4,6],[5,15,25],color='darkgreen',marker='^')   #Step4\n",
    "ax.set_xlim(1, 6.5)          #Step4\n",
    "plt.savefig('foo.png')       #Step5\n",
    "plt.show()                   #Step6\n"
   ]
  },
  {
   "cell_type": "markdown",
   "metadata": {
    "_uuid": "a3ecfa6e8e134dd54c3c74410b4cf50217fd7c47"
   },
   "source": [
    "## 1. Prepare Data"
   ]
  },
  {
   "cell_type": "markdown",
   "metadata": {
    "_uuid": "2478ce21db61e3fd476332ed4717a1e31a87c7ce"
   },
   "source": [
    "### 1-D Data"
   ]
  },
  {
   "cell_type": "code",
   "execution_count": null,
   "metadata": {
    "_uuid": "e608225f97afc85f3ce698cae97285e055fcb398",
    "collapsed": true
   },
   "outputs": [],
   "source": [
    "import numpy as np\n",
    "x = np.linspace(0, 10, 100)\n",
    "y = np.cos(x)\n",
    "z = np.sin(x)"
   ]
  },
  {
   "cell_type": "markdown",
   "metadata": {
    "_uuid": "69b00842f280e05a4f5eae38da27dbb6e4373107"
   },
   "source": [
    "### 2-D Data or Images"
   ]
  },
  {
   "cell_type": "code",
   "execution_count": null,
   "metadata": {
    "_uuid": "503897b9071f24c5f9f6e797775b6560cd772c88"
   },
   "outputs": [],
   "source": [
    "data1 = 2 * np.random.random((10, 10))\n",
    "data2 = 3 * np.random.random((10, 10))"
   ]
  },
  {
   "cell_type": "code",
   "execution_count": null,
   "metadata": {
    "_uuid": "2b6ae453261d904e6bac78c96911a7753f815fea",
    "collapsed": true
   },
   "outputs": [],
   "source": [
    "Y, X = np.mgrid[-3:3:100j, -3:3:100j]"
   ]
  },
  {
   "cell_type": "code",
   "execution_count": null,
   "metadata": {
    "_uuid": "5369f5ccd861bc562b88ba35df6540f191379560",
    "collapsed": true
   },
   "outputs": [],
   "source": [
    "U = -1 - X**2 + Y\n",
    "V = 1 + X - Y**2"
   ]
  },
  {
   "cell_type": "code",
   "execution_count": null,
   "metadata": {
    "_uuid": "f496166b412da26748d7731dc15194f43816ebb9",
    "collapsed": true
   },
   "outputs": [],
   "source": [
    "from matplotlib.cbook import get_sample_data\n",
    "img = np.load(get_sample_data('axes_grid/bivariate_normal.npy'))"
   ]
  },
  {
   "cell_type": "markdown",
   "metadata": {
    "_uuid": "93a52e71965443c284412b5d8492914c85e522e4"
   },
   "source": [
    "## 2. Create Plot"
   ]
  },
  {
   "cell_type": "code",
   "execution_count": null,
   "metadata": {
    "_uuid": "92c1bf347b7da40c1dce168c5d02e561d0e5811b",
    "collapsed": true
   },
   "outputs": [],
   "source": [
    "import matplotlib.pyplot as plt"
   ]
  },
  {
   "cell_type": "markdown",
   "metadata": {
    "_uuid": "152dd586c67d2c294f7b8ab4a3aee2e474305e1c"
   },
   "source": [
    "### Figure"
   ]
  },
  {
   "cell_type": "code",
   "execution_count": null,
   "metadata": {
    "_uuid": "1262e6868519351591e3e2ceb0382b7da58f3965",
    "collapsed": true
   },
   "outputs": [],
   "source": [
    "fig = plt.figure()"
   ]
  },
  {
   "cell_type": "code",
   "execution_count": null,
   "metadata": {
    "_uuid": "65ba099a4deaa737a75af0e6bb06bacc3b31da97",
    "collapsed": true
   },
   "outputs": [],
   "source": [
    "fig2 = plt.figure(figsize=plt.figaspect(2.0))"
   ]
  },
  {
   "cell_type": "markdown",
   "metadata": {
    "_uuid": "cb911dbbf3e6623f8a8c44a694825ce9b4eff479"
   },
   "source": [
    "### Axes\n",
    "All plotting is done with respect to an Axes. In most cases, a subplot will fit your needs. A subplot is an axes on a grid system"
   ]
  },
  {
   "cell_type": "code",
   "execution_count": null,
   "metadata": {
    "_uuid": "0c2fb8be7ca7e2df29fe4379f889061dcd3447ca",
    "collapsed": true
   },
   "outputs": [],
   "source": [
    "fig.add_axes()"
   ]
  },
  {
   "cell_type": "code",
   "execution_count": null,
   "metadata": {
    "_uuid": "026b474d96a9b226fe68bf03c58961328563159c",
    "collapsed": true
   },
   "outputs": [],
   "source": [
    "ax1 = fig.add_subplot(221) # row-col-num"
   ]
  },
  {
   "cell_type": "code",
   "execution_count": null,
   "metadata": {
    "_uuid": "a6a25cac62d5a9a5406093ab4d9f8aa5dd46e4ef",
    "collapsed": true
   },
   "outputs": [],
   "source": [
    "ax3 = fig.add_subplot(212)"
   ]
  },
  {
   "cell_type": "code",
   "execution_count": null,
   "metadata": {
    "_uuid": "e9224fd67cc5d69024598b6f6bb2bd7ca2795cc5",
    "collapsed": true
   },
   "outputs": [],
   "source": [
    "fig3, axes = plt.subplots(nrows=2,ncols=2)"
   ]
  },
  {
   "cell_type": "code",
   "execution_count": null,
   "metadata": {
    "_uuid": "963dfb160cc9dcc06a5a42ee0a8847f30af7075e",
    "collapsed": true
   },
   "outputs": [],
   "source": [
    "fig4, axes2 = plt.subplots(ncols=3)"
   ]
  },
  {
   "cell_type": "markdown",
   "metadata": {
    "_uuid": "a322ae9821af69429cac526de00251cd6710947d"
   },
   "source": [
    "## 3. Plotting Routines"
   ]
  },
  {
   "cell_type": "markdown",
   "metadata": {
    "_uuid": "bbf45c4a1f9a4a801aca44311b3c034747bfc354"
   },
   "source": [
    "### 1-D Data"
   ]
  },
  {
   "cell_type": "code",
   "execution_count": null,
   "metadata": {
    "_uuid": "27c1a8f5e1206c2c50c27e8eadaddbe805673223"
   },
   "outputs": [],
   "source": [
    "lines = ax.plot(x,y)  #Draw points with lines or markers connecting them"
   ]
  },
  {
   "cell_type": "code",
   "execution_count": null,
   "metadata": {
    "_uuid": "875e5d5736f059bb710ca0eab0816ae6b5fca1af",
    "collapsed": true
   },
   "outputs": [],
   "source": [
    "ax.scatter(x,y)       #Draw unconnected points, scaled or colored"
   ]
  },
  {
   "cell_type": "code",
   "execution_count": null,
   "metadata": {
    "_uuid": "aaa452c3a230253f3126fe81a80c9dc81c69087b",
    "collapsed": true
   },
   "outputs": [],
   "source": [
    "axes[0,0].bar([1,2,3],[3,4,5])  #Plot vertical rectangles (constant width)"
   ]
  },
  {
   "cell_type": "code",
   "execution_count": null,
   "metadata": {
    "_uuid": "6c8f4222d624dfafe7801bb52bc77ca1b4ac90ca",
    "collapsed": true
   },
   "outputs": [],
   "source": [
    "axes[1,0].barh([0.5,1,2.5],[0,1,2])  #Plot horiontal rectangles (constant height)"
   ]
  },
  {
   "cell_type": "code",
   "execution_count": null,
   "metadata": {
    "_uuid": "70bcfb8e72bf08ca07f5a0e81c95e9f39737d4bd",
    "collapsed": true
   },
   "outputs": [],
   "source": [
    "axes[1,1].axhline(0.45)   #Draw a horizontal line across axes"
   ]
  },
  {
   "cell_type": "code",
   "execution_count": null,
   "metadata": {
    "_uuid": "1a95fbb654861f8516a553b6261373a8c9bbc8eb",
    "collapsed": true
   },
   "outputs": [],
   "source": [
    "axes[0,1].axvline(0.65)   #Draw a vertical line across axes"
   ]
  },
  {
   "cell_type": "code",
   "execution_count": null,
   "metadata": {
    "_uuid": "b78cb58dd357b09233cee3f850672ebe0f9be927",
    "collapsed": true
   },
   "outputs": [],
   "source": [
    "ax.fill(x,y,color='blue') #Draw filled polygons"
   ]
  },
  {
   "cell_type": "code",
   "execution_count": null,
   "metadata": {
    "_uuid": "08204a16627be4ba8dc3b03a4c9522d775678143",
    "collapsed": true
   },
   "outputs": [],
   "source": [
    "ax.fill_between(x,y,color='yellow')  #Fill between y-values and 0"
   ]
  },
  {
   "cell_type": "markdown",
   "metadata": {
    "_uuid": "0b4f799bb3c4f3d4c02db07848179da49528f963"
   },
   "source": [
    "### 2-D Data or Images"
   ]
  },
  {
   "cell_type": "code",
   "execution_count": null,
   "metadata": {
    "_uuid": "7f80d5aa18e2bf5e72048fe2a869414e19499dd1",
    "collapsed": true
   },
   "outputs": [],
   "source": [
    "fig, ax = plt.subplots()"
   ]
  },
  {
   "cell_type": "code",
   "execution_count": null,
   "metadata": {
    "_uuid": "ef660166bddccb59bf4c116c46f3443405ad8e5f",
    "collapsed": true
   },
   "outputs": [],
   "source": [
    "im = ax.imshow(img,cmap='gist_earth', interpolation='nearest', vmin=-2,vmax=2)  #Colormapped or RGB arrays"
   ]
  },
  {
   "cell_type": "code",
   "execution_count": null,
   "metadata": {
    "_uuid": "2dbef2dcb969c42780214f01ac6804869c1f9cdc"
   },
   "outputs": [],
   "source": [
    "axes2[0].pcolor(data2)   #Pseudocolor plot of 2D array"
   ]
  },
  {
   "cell_type": "code",
   "execution_count": null,
   "metadata": {
    "_uuid": "db24cc2a004566fd2c101954d661c92c2a87674f",
    "collapsed": true
   },
   "outputs": [],
   "source": [
    "axes2[0].pcolormesh(data) #Pseudocolor plot of 2D array"
   ]
  },
  {
   "cell_type": "code",
   "execution_count": null,
   "metadata": {
    "_uuid": "31eb397a5f3d5a5ee10a024105be0c142fde4696",
    "collapsed": true
   },
   "outputs": [],
   "source": [
    "CS = plt.contour(Y,X,U) #Plot contours"
   ]
  },
  {
   "cell_type": "code",
   "execution_count": null,
   "metadata": {
    "_uuid": "959c41e4976e7fd68b10f40dd1f0cbdd77602435",
    "collapsed": true
   },
   "outputs": [],
   "source": [
    "axes2[2].contourf(data1) #Plot filled contours"
   ]
  },
  {
   "cell_type": "code",
   "execution_count": null,
   "metadata": {
    "_uuid": "2548a796bfd3e4a60982fbc35e7beefeb0924051",
    "collapsed": true
   },
   "outputs": [],
   "source": [
    "axes2[2]= ax.clabel(CS) #Label a contour plot"
   ]
  },
  {
   "cell_type": "markdown",
   "metadata": {
    "_uuid": "b83decf60fcab60a01b626d3adefb13cc268edea"
   },
   "source": [
    "### Vector Fields"
   ]
  },
  {
   "cell_type": "code",
   "execution_count": null,
   "metadata": {
    "_uuid": "7c30417591251187c3bcec642ba04a639298e8b8"
   },
   "outputs": [],
   "source": [
    "axes[0,1].arrow(0,0,0.5,0.5)    #Add an arrow to the axes"
   ]
  },
  {
   "cell_type": "code",
   "execution_count": null,
   "metadata": {
    "_uuid": "15cdacabc8ba83e9d6838755289db30b1622acda",
    "collapsed": true
   },
   "outputs": [],
   "source": [
    "axes[1,1].quiver(y,z)      #Plot a 2D field of arrows"
   ]
  },
  {
   "cell_type": "code",
   "execution_count": null,
   "metadata": {
    "_uuid": "05d29dacc0a1363860c02bfdba238031b18cf249",
    "collapsed": true
   },
   "outputs": [],
   "source": [
    "axes[0,1].streamplot(X,Y,U,V)  #Plot 2D vector fields"
   ]
  },
  {
   "cell_type": "markdown",
   "metadata": {
    "_uuid": "57951247b31b8d010c11994400573c4c2a35787e"
   },
   "source": [
    "### Data Distributions"
   ]
  },
  {
   "cell_type": "code",
   "execution_count": null,
   "metadata": {
    "_uuid": "1a78cf8a53f840b5c2628fb08b15a4c39957cc6e"
   },
   "outputs": [],
   "source": [
    "ax1.hist(y)   #Plot a histogram"
   ]
  },
  {
   "cell_type": "code",
   "execution_count": null,
   "metadata": {
    "_uuid": "5112838ff936b01c12d6950182cd2937fedaa171",
    "collapsed": true
   },
   "outputs": [],
   "source": [
    "ax3.boxplot(y) #Make a box and whisker plot"
   ]
  },
  {
   "cell_type": "code",
   "execution_count": null,
   "metadata": {
    "_uuid": "239eb59362a0ff26b80dbb47b3e5d72f4dbb1301",
    "collapsed": true
   },
   "outputs": [],
   "source": [
    "ax3.violinplot(z) #Make a violin plot"
   ]
  },
  {
   "cell_type": "markdown",
   "metadata": {
    "_uuid": "ab086baad0f7f5cd14b9a74edbb3cd4d4f8e184b"
   },
   "source": [
    "## 4. Customize Plot"
   ]
  },
  {
   "cell_type": "markdown",
   "metadata": {
    "_uuid": "7172f719d8827b17334f0c80c95a57d6a6957f32"
   },
   "source": [
    "### Colors, Color Bars & Color Maps"
   ]
  },
  {
   "cell_type": "code",
   "execution_count": null,
   "metadata": {
    "_uuid": "fb3218f373a6230e199ebf76f7696be0c90d0450",
    "collapsed": true
   },
   "outputs": [],
   "source": [
    "plt.plot(x, x, x, x**2, x, x**3)"
   ]
  },
  {
   "cell_type": "code",
   "execution_count": null,
   "metadata": {
    "_uuid": "dd2e9155c5fac78b363f750f0aea385f6ab03014",
    "collapsed": true
   },
   "outputs": [],
   "source": [
    "ax.plot(x, y, alpha = 0.4)"
   ]
  },
  {
   "cell_type": "code",
   "execution_count": null,
   "metadata": {
    "_uuid": "75a824e47f001e0bdf015f5d74469f7428efbca5",
    "collapsed": true
   },
   "outputs": [],
   "source": [
    "ax.plot(x, y, c='k')"
   ]
  },
  {
   "cell_type": "code",
   "execution_count": null,
   "metadata": {
    "_uuid": "091cacf08821aafb9011261009b229ce2d983892",
    "collapsed": true
   },
   "outputs": [],
   "source": [
    "fig.colorbar(im, orientation='horizontal')"
   ]
  },
  {
   "cell_type": "code",
   "execution_count": null,
   "metadata": {
    "_uuid": "7d8aff171e1472d84ee36ed258632ba21eb77507",
    "collapsed": true
   },
   "outputs": [],
   "source": [
    "im = ax.imshow(img,cmap='seismic')"
   ]
  },
  {
   "cell_type": "markdown",
   "metadata": {
    "_uuid": "c8d6174de26ad000a8af978055fad25d501aa28e"
   },
   "source": [
    "### Markers"
   ]
  },
  {
   "cell_type": "code",
   "execution_count": null,
   "metadata": {
    "_uuid": "2cf35bec90fd83d856085603746db0d68bdf02c5"
   },
   "outputs": [],
   "source": [
    "fig, ax = plt.subplots()"
   ]
  },
  {
   "cell_type": "code",
   "execution_count": null,
   "metadata": {
    "_uuid": "463ef6135678faae3520821ef733c68693afb9a9",
    "collapsed": true
   },
   "outputs": [],
   "source": [
    "ax.scatter(x,y,marker=\".\")"
   ]
  },
  {
   "cell_type": "code",
   "execution_count": null,
   "metadata": {
    "_uuid": "51aa9646a5d3e858b6ae07ad51aeb328e7acd535",
    "collapsed": true
   },
   "outputs": [],
   "source": [
    "ax.plot(x,y,marker=\"o\")"
   ]
  },
  {
   "cell_type": "markdown",
   "metadata": {
    "_uuid": "3a28b0a0e5aebdd4b084bf5aa1d0c9ea020ab47e"
   },
   "source": [
    "### LineStyles"
   ]
  },
  {
   "cell_type": "code",
   "execution_count": null,
   "metadata": {
    "_uuid": "ded8b5d143c04a46311569e707e956153e37e522"
   },
   "outputs": [],
   "source": [
    "plt.plot(x,y,linewidth=4.0)"
   ]
  },
  {
   "cell_type": "code",
   "execution_count": null,
   "metadata": {
    "_uuid": "680db68dffedebfff667d5ca990cbd8c80556bbf",
    "collapsed": true
   },
   "outputs": [],
   "source": [
    "plt.plot(x,y,ls='solid')"
   ]
  },
  {
   "cell_type": "code",
   "execution_count": null,
   "metadata": {
    "_uuid": "4a89d3f7979eb5137559e73078c1c1445ceae7c7",
    "collapsed": true
   },
   "outputs": [],
   "source": [
    "plt.plot(x,y,ls='--')"
   ]
  },
  {
   "cell_type": "code",
   "execution_count": null,
   "metadata": {
    "_uuid": "23f49b40c6ba867db891f8310b8bb289b3015943",
    "collapsed": true
   },
   "outputs": [],
   "source": [
    "plt.plot(x,y,'--',x**2,y**2,'-.')"
   ]
  },
  {
   "cell_type": "code",
   "execution_count": null,
   "metadata": {
    "_uuid": "3bef488c34d22182c2b62d10bdc0f385565a683c",
    "collapsed": true
   },
   "outputs": [],
   "source": [
    "plt.setp(lines,color='r',linewidth=4.0)"
   ]
  },
  {
   "cell_type": "markdown",
   "metadata": {
    "_uuid": "66ff098528d6656a9b64401ffb8fb02bed09de73"
   },
   "source": [
    "### Text & Annotations"
   ]
  },
  {
   "cell_type": "code",
   "execution_count": null,
   "metadata": {
    "_uuid": "51f8277b9228318e431e36cb5ca3296ba8b5ac95"
   },
   "outputs": [],
   "source": [
    "ax.text(1,-2.1, 'Example Graph', style='italic')"
   ]
  },
  {
   "cell_type": "code",
   "execution_count": null,
   "metadata": {
    "_uuid": "313b49736089694507144f08fae7aaad0fc317f1",
    "collapsed": true
   },
   "outputs": [],
   "source": [
    "ax.annotate(\"Sine\", xy=(8, 0),xycoords='data', xytext=(10.5, 0),\n",
    "            textcoords='data', arrowprops=dict(arrowstyle=\"->\", connectionstyle=\"arc3\"),)"
   ]
  },
  {
   "cell_type": "markdown",
   "metadata": {
    "_uuid": "9362e4593a3a90e6ba28643f643268bc2b4d6d87"
   },
   "source": [
    "### Mathtext"
   ]
  },
  {
   "cell_type": "code",
   "execution_count": null,
   "metadata": {
    "_uuid": "ed9cc71558e8e960f00b71a8a61615cb6f0db5b5"
   },
   "outputs": [],
   "source": [
    "plt.title(r'$sigma_i=15$', fontsize=20)"
   ]
  },
  {
   "cell_type": "markdown",
   "metadata": {
    "_uuid": "2f9cf35e4c8895a134edf4fdbe8335c678b893f7"
   },
   "source": [
    "### Limits, Legends & Layouts"
   ]
  },
  {
   "cell_type": "code",
   "execution_count": null,
   "metadata": {
    "_uuid": "514ab133adcbb86bdb841593927bdaaf97436a38"
   },
   "outputs": [],
   "source": [
    "# Limits & Autoscaling\n",
    "ax.margins(x=0.0,y=0.1)   #Add padding to a plot\n",
    "ax.axis('equal')         #Set the aspect ratio of the plot to 1\n",
    "ax.set(xlim=[0,10.5],ylim=[-1.5,1.5])  #Set limits for x-and y-axis\n",
    "ax.set_xlim(0,10.5) #Set limits for x-axis"
   ]
  },
  {
   "cell_type": "code",
   "execution_count": null,
   "metadata": {
    "_uuid": "0ab25e7e2151153ae63888b7e777752c8b712b33",
    "collapsed": true
   },
   "outputs": [],
   "source": [
    "# Legends\n",
    "ax.set(title='An Example Axes',ylabel='Y-Axis', xlabel='X-Axis')  # Set a title and x-and y-axis labels\n",
    "ax.legend(loc='best')   #No overlapping plot elements"
   ]
  },
  {
   "cell_type": "code",
   "execution_count": null,
   "metadata": {
    "_uuid": "104afde312af164e048f93fdba0e1f0c08caf564",
    "collapsed": true
   },
   "outputs": [],
   "source": [
    "# Ticks\n",
    "ax.xaxis.set(ticks=range(1,5),ticklabels=[3,100,-12,\"foo\"])  #Manually set x-ticks\n",
    "ax.tick_params(axis='y',direction='inout', length=10)    # Make y-ticks longer and go in and out"
   ]
  },
  {
   "cell_type": "code",
   "execution_count": null,
   "metadata": {
    "_uuid": "f197798ff3c4bff2ed51b319a068239ac2d05bd8",
    "collapsed": true
   },
   "outputs": [],
   "source": [
    "# Subplot Spacing\n",
    "fig3.subplots_adjust(wspace=0.5,hspace=0.3,left=0.125,right=0.9,top=0.9,bottom=0.1)  # Adjust the spacing between subplots\n",
    "fig.tight_layout()  #Fit subplot(s) in to the figure area"
   ]
  },
  {
   "cell_type": "code",
   "execution_count": null,
   "metadata": {
    "_uuid": "1ffd7a6b061c15e869a023a375d1153e834047e1",
    "collapsed": true
   },
   "outputs": [],
   "source": [
    "# Axis Spines\n",
    "ax1.spines['top'].set_visible(False)  #Make the top axis line for a plot invisible\n",
    "ax1.spines['bottom'].set_position(('outward',10))   #Move the bottom axis line outward"
   ]
  },
  {
   "cell_type": "markdown",
   "metadata": {
    "_uuid": "e87d607560e7973855c945a0bf7e42a782b22a41"
   },
   "source": [
    "## 5. Save Plot"
   ]
  },
  {
   "cell_type": "code",
   "execution_count": null,
   "metadata": {
    "_uuid": "24b7dbe12d7c0fcdddd43d16d9fc5cc21b24e27f",
    "collapsed": true
   },
   "outputs": [],
   "source": [
    "#Save figures\n",
    "plt.savefig('foo.png')"
   ]
  },
  {
   "cell_type": "code",
   "execution_count": null,
   "metadata": {
    "_uuid": "b8c366e21eea9537c2bcd5e35e644f6abe3429f1",
    "collapsed": true
   },
   "outputs": [],
   "source": [
    "#Save transparent figures\n",
    "plt.savefig('foo.png', transparent=True)"
   ]
  },
  {
   "cell_type": "markdown",
   "metadata": {
    "_uuid": "4249c0ca3ca2750017466306720ad2c243041683"
   },
   "source": [
    "## 6. Show Plot\n"
   ]
  },
  {
   "cell_type": "code",
   "execution_count": null,
   "metadata": {
    "_uuid": "6fe2e3a2dd6ac39d56400423dd4653fa7326eb0b"
   },
   "outputs": [],
   "source": [
    "plt.show()"
   ]
  },
  {
   "cell_type": "markdown",
   "metadata": {
    "_uuid": "3b4685afb1df1a7641d8193b3c0ed1b3180399bd"
   },
   "source": [
    "### Close & Clear"
   ]
  },
  {
   "cell_type": "code",
   "execution_count": null,
   "metadata": {
    "_uuid": "7c94866977d0021f83ba095f408533ee6b51a4cb",
    "collapsed": true
   },
   "outputs": [],
   "source": [
    "plt.cla()  #Clear an axis\n",
    "plt.clf()  #Clear the entire figure\n",
    "plt.close() #Close a window"
   ]
  },
  {
   "cell_type": "code",
   "execution_count": null,
   "metadata": {
    "_uuid": "9f617fa8940cfdf25461511911220bdab8d660b7",
    "collapsed": true
   },
   "outputs": [],
   "source": []
  }
 ],
 "metadata": {
  "kernelspec": {
   "display_name": "Python 3",
   "language": "python",
   "name": "python3"
  },
  "language_info": {
   "codemirror_mode": {
    "name": "ipython",
    "version": 3
   },
   "file_extension": ".py",
   "mimetype": "text/x-python",
   "name": "python",
   "nbconvert_exporter": "python",
   "pygments_lexer": "ipython3",
   "version": "3.7.4"
  }
 },
 "nbformat": 4,
 "nbformat_minor": 1
}
